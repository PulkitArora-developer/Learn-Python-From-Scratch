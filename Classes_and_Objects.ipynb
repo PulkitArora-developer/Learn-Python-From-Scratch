{
  "nbformat": 4,
  "nbformat_minor": 0,
  "metadata": {
    "colab": {
      "name": "Classes and Objects.ipynb",
      "provenance": [],
      "collapsed_sections": []
    },
    "kernelspec": {
      "name": "python3",
      "display_name": "Python 3"
    }
  },
  "cells": [
    {
      "cell_type": "code",
      "metadata": {
        "id": "Hb78iTakqvw0",
        "colab_type": "code",
        "colab": {}
      },
      "source": [
        "# When we define a class, it needs to create an object to allocate the memory.\n",
        "\n",
        "class employee():   # Creating a class Using class keyword \n",
        "  pass"
      ],
      "execution_count": 8,
      "outputs": []
    },
    {
      "cell_type": "markdown",
      "metadata": {
        "id": "PPkXLJZErLs1",
        "colab_type": "text"
      },
      "source": [
        "Python is Case Sensitive"
      ]
    },
    {
      "cell_type": "code",
      "metadata": {
        "id": "1OXDLA7jrDjQ",
        "colab_type": "code",
        "colab": {}
      },
      "source": [
        "# Now lets Create a class and inside a class define some methods and access through the objects."
      ],
      "execution_count": 9,
      "outputs": []
    },
    {
      "cell_type": "code",
      "metadata": {
        "id": "_mIHey9crfPU",
        "colab_type": "code",
        "colab": {
          "base_uri": "https://localhost:8080/",
          "height": 35
        },
        "outputId": "e6a3ef6a-3789-4a62-fcb8-cadc60a2ebf4"
      },
      "source": [
        "class employee():\n",
        "    def __init__(self,name,age,id,salary):   #creating a function \n",
        "        self.name = name # self is an instance of a class\n",
        "        self.age = age\n",
        "        self.salary = salary\n",
        "        self.id = id\n",
        " \n",
        "emp1 = employee(\"harshit\",22,1000,1234) # creating objects\n",
        "emp2 = employee(\"arjun\",23,2000,2234)\n",
        "print(emp1.__dict__) # Prints dictionary\n",
        "\n",
        "\n",
        "# The word (__dict__) is a “dictionary” which prints all the values of object\n",
        "# ‘emp1’ against the given parameter (name, age, salary).\n",
        "\n",
        "# (__init__) acts like a constructor that is invoked whenever an object is created.\n",
        "\n",
        "#  ’emp1′ and ’emp2′ are the objects that are instantiated against the class ’employee’.\n"
      ],
      "execution_count": 10,
      "outputs": [
        {
          "output_type": "stream",
          "text": [
            "{'name': 'harshit', 'age': 22, 'salary': 1234, 'id': 1000}\n"
          ],
          "name": "stdout"
        }
      ]
    },
    {
      "cell_type": "markdown",
      "metadata": {
        "id": "uj2FvPAlsitt",
        "colab_type": "text"
      },
      "source": [
        "***Example 2***"
      ]
    },
    {
      "cell_type": "code",
      "metadata": {
        "id": "AnGnS2f9r-gh",
        "colab_type": "code",
        "colab": {
          "base_uri": "https://localhost:8080/",
          "height": 35
        },
        "outputId": "76ce1533-9a09-4570-fe64-b8ca87bd30f0"
      },
      "source": [
        "class car:  \n",
        "    def __init__(self,modelname, year):  \n",
        "        self.modelname = modelname  \n",
        "        self.year = year  \n",
        "    def display(self):  \n",
        "        print(self.modelname,self.year)  \n",
        "  \n",
        "c1 = car(\"Toyota\", 2016)  \n",
        "c1.display()  "
      ],
      "execution_count": 11,
      "outputs": [
        {
          "output_type": "stream",
          "text": [
            "Toyota 2016\n"
          ],
          "name": "stdout"
        }
      ]
    },
    {
      "cell_type": "markdown",
      "metadata": {
        "id": "5kNwLi79tFYn",
        "colab_type": "text"
      },
      "source": [
        "Constructors Type"
      ]
    },
    {
      "cell_type": "code",
      "metadata": {
        "id": "iVTfTfP7soAG",
        "colab_type": "code",
        "colab": {
          "base_uri": "https://localhost:8080/",
          "height": 53
        },
        "outputId": "1006ebb5-53da-4f77-d7a9-1208cbbe9d03"
      },
      "source": [
        "# Non Parameterized Constructor\n",
        "\n",
        "class Student:  \n",
        "    # Constructor - non parameterized  \n",
        "    def __init__(self):   # No Parameters Are Passing inside a constructor\n",
        "        print(\"This is non parametrized constructor\")  \n",
        "    def show(self,name):  \n",
        "        print(\"Hello\",name)  \n",
        "student = Student()  \n",
        "student.show(\"John\") "
      ],
      "execution_count": 13,
      "outputs": [
        {
          "output_type": "stream",
          "text": [
            "This is non parametrized constructor\n",
            "Hello John\n"
          ],
          "name": "stdout"
        }
      ]
    },
    {
      "cell_type": "code",
      "metadata": {
        "id": "GRFSdAq6tM3W",
        "colab_type": "code",
        "colab": {
          "base_uri": "https://localhost:8080/",
          "height": 53
        },
        "outputId": "2650a195-25f1-47bb-cf05-630c6ff196db"
      },
      "source": [
        "# Parameterized Constructor\n",
        "\n",
        "class Student:  \n",
        "    # Constructor - parameterized  \n",
        "    def __init__(self, name):    # Here We pass name as a parameter\n",
        "        print(\"This is parametrized constructor\")  \n",
        "        self.name = name  \n",
        "    def show(self):  \n",
        "        print(\"Hello\",self.name)  \n",
        "student = Student(\"John\")  \n",
        "student.show()   "
      ],
      "execution_count": 15,
      "outputs": [
        {
          "output_type": "stream",
          "text": [
            "This is parametrized constructor\n",
            "Hello John\n"
          ],
          "name": "stdout"
        }
      ]
    },
    {
      "cell_type": "code",
      "metadata": {
        "id": "BaOJWyCvtXDW",
        "colab_type": "code",
        "colab": {
          "base_uri": "https://localhost:8080/",
          "height": 53
        },
        "outputId": "615b873e-9c7e-4416-b7d4-5d4822bbc6a3"
      },
      "source": [
        "# Default Constructor\n",
        "\n",
        "# When we do not include the constructor in the class or forget to declare it,\n",
        "# then that becomes the default constructor. It does not perform any task but initializes the objects.\n",
        " \n",
        "class Student:  \n",
        "    roll_num = 101  \n",
        "    name = \"Joseph\"  \n",
        "  \n",
        "    def display(self):  \n",
        "        print(self.roll_num)\n",
        "        print(self.name)\n",
        "  \n",
        "st = Student()  \n",
        "st.display()  "
      ],
      "execution_count": 19,
      "outputs": [
        {
          "output_type": "stream",
          "text": [
            "101\n",
            "Joseph\n"
          ],
          "name": "stdout"
        }
      ]
    },
    {
      "cell_type": "code",
      "metadata": {
        "id": "7xM4LEjotgQy",
        "colab_type": "code",
        "colab": {
          "base_uri": "https://localhost:8080/",
          "height": 35
        },
        "outputId": "e60e5d51-0fd2-44a4-ab8e-bedc18e00f0b"
      },
      "source": [
        "# More than One Constructor in Single class\n",
        "\n",
        "class Student:  \n",
        "    def __init__(self):  \n",
        "        print(\"The First Constructor\")  \n",
        "    def __init__(self):  \n",
        "        print(\"The second contructor\")  \n",
        "  \n",
        "st = Student()  \n",
        "\n",
        "# In the above code, the object st called the second constructor whereas both have the same configuration. \n",
        "# The first method is not accessible by the st object. \n",
        "# Internally, the object of the class will always call the last constructor if the class has multiple constructors."
      ],
      "execution_count": 20,
      "outputs": [
        {
          "output_type": "stream",
          "text": [
            "The second contructor\n"
          ],
          "name": "stdout"
        }
      ]
    },
    {
      "cell_type": "markdown",
      "metadata": {
        "id": "78nOg3RkuCmC",
        "colab_type": "text"
      },
      "source": [
        "**Note:- The constructor overloading is not allowed in Python.**"
      ]
    }
  ]
}
